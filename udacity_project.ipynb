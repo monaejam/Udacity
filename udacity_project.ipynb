{
  "cells": [
    {
      "cell_type": "code",
      "source": [
        "from azureml.core import Workspace, Experiment, Environment\n",
        "from azureml.core import ScriptRunConfig\n",
        "from azureml.core.conda_dependencies import CondaDependencies\n",
        "from azureml.train.hyperdrive import RandomParameterSampling, BanditPolicy, HyperDriveConfig, PrimaryMetricGoal\n",
        "from azureml.train.hyperdrive.parameter_expressions import choice\n",
        "from azureml.core.compute import ComputeTarget, AmlCompute\n",
        "from azureml.core.compute_target import ComputeTargetException\n",
        "import os\n",
        "import shutil\n",
        "\n",
        "# Load workspace\n",
        "ws = Workspace.from_config()\n",
        "\n",
        "# Specify the name of the compute cluster\n",
        "compute_name = \"trainCluster\"\n",
        "\n",
        "# Check if the compute target already exists, otherwise create it\n",
        "try:\n",
        "    trainCluster = ComputeTarget(ws, compute_name)\n",
        "    print(f\"{compute_name} exists already\")\n",
        "except ComputeTargetException:\n",
        "    compute_config = AmlCompute.provisioning_configuration(vm_size=\"Standard_D2_V2\", max_nodes=4)\n",
        "    trainCluster = ComputeTarget.create(ws, compute_name, compute_config)\n",
        "    trainCluster.wait_for_completion(show_output=True)\n",
        "\n",
        "# Create a new environment\n",
        "env = Environment(name=\"my-sklearn-env\")\n",
        "conda_dep = CondaDependencies()\n",
        "conda_dep.add_conda_package(\"scikit-learn\")\n",
        "conda_dep.add_conda_package(\"pandas\")  # Add pandas dependency\n",
        "env.python.conda_dependencies = conda_dep\n",
        "\n",
        "# Register the environment\n",
        "env.register(workspace=ws)\n",
        "\n",
        "# Specify parameter sampler\n",
        "ps = RandomParameterSampling(\n",
        "    {\n",
        "        \"--C\": choice(1, 2, 3, 4, 5),\n",
        "        \"--max_iter\": choice(80, 100, 120, 150, 170, 200)\n",
        "    }\n",
        ")\n",
        "\n",
        "# Specify a Policy\n",
        "policy = BanditPolicy(evaluation_interval=1, slack_factor=0.2, delay_evaluation=5)\n",
        "\n",
        "# Create a directory for training and copy the training script\n",
        "if \"training\" not in os.listdir():\n",
        "    os.mkdir(\"./training\")\n",
        "shutil.copy('train.py', './training')\n",
        "\n",
        "# Create a ScriptRunConfig\n",
        "src = ScriptRunConfig(source_directory='./training',\n",
        "                      script='train.py',\n",
        "                      compute_target=trainCluster,\n",
        "                      environment=env)\n",
        "\n",
        "# Create a HyperDriveConfig using the ScriptRunConfig, hyperparameter sampler, and policy.\n",
        "hyperdrive_config = HyperDriveConfig(run_config=src,\n",
        "                                     policy=policy,\n",
        "                                     hyperparameter_sampling=ps,\n",
        "                                     primary_metric_name=\"Accuracy\",\n",
        "                                     primary_metric_goal=PrimaryMetricGoal.MAXIMIZE,\n",
        "                                     max_total_runs=10)\n",
        "\n",
        "# Submit the HyperDrive run\n",
        "experiment_name = 'your-experiment-name'\n",
        "experiment = Experiment(workspace=ws, name=experiment_name)\n",
        "hyperdrive_run = experiment.submit(config=hyperdrive_config)\n",
        "\n",
        "# wait for completion and retrieve the best run\n",
        "hyperdrive_run.wait_for_completion(show_output=True)\n",
        "best_run = hyperdrive_run.get_best_run_by_primary_metric()\n",
        "best_run_metrics = best_run.get_metrics()\n",
        "\n",
        "print('Best Run Id: ', best_run.id)\n",
        "print('\\nAccuracy:', best_run_metrics['Accuracy'])\n"
      ],
      "outputs": [
        {
          "output_type": "stream",
          "name": "stdout",
          "text": "trainCluster exists already\nRunId: HD_71c76867-b3e6-48b0-9bd3-d03366a0c40a\nWeb View: https://ml.azure.com/runs/HD_71c76867-b3e6-48b0-9bd3-d03366a0c40a?wsid=/subscriptions/d2d90bd8-e567-4097-88c9-9532cc375686/resourcegroups/cloud_shell/workspaces/udacity&tid=f3822f31-4d32-4719-a061-c45fac0a64ab\n\nStreaming azureml-logs/hyperdrive.txt\n=====================================\n\n[2024-07-01T00:44:33.093856][GENERATOR][INFO]Trying to sample '10' jobs from the hyperparameter space\n[2024-07-01T00:44:33.6854184Z][SCHEDULER][INFO]Scheduling job, id='HD_71c76867-b3e6-48b0-9bd3-d03366a0c40a_0' \n[2024-07-01T00:44:33.8128413Z][SCHEDULER][INFO]Scheduling job, id='HD_71c76867-b3e6-48b0-9bd3-d03366a0c40a_1' \n[2024-07-01T00:44:33.9369349Z][SCHEDULER][INFO]Scheduling job, id='HD_71c76867-b3e6-48b0-9bd3-d03366a0c40a_2' \n[2024-07-01T00:44:34.0428287Z][SCHEDULER][INFO]Scheduling job, id='HD_71c76867-b3e6-48b0-9bd3-d03366a0c40a_3' \n[2024-07-01T00:44:34.1721100Z][SCHEDULER][INFO]Scheduling job, id='HD_71c76867-b3e6-48b0-9bd3-d03366a0c40a_4' \n[2024-07-01T00:44:34.3969025Z][SCHEDULER][INFO]Successfully scheduled a job. Id='HD_71c76867-b3e6-48b0-9bd3-d03366a0c40a_1' \n[2024-07-01T00:44:34.2734546Z][SCHEDULER][INFO]Scheduling job, id='HD_71c76867-b3e6-48b0-9bd3-d03366a0c40a_5' \n[2024-07-01T00:44:34.4962919Z][SCHEDULER][INFO]Successfully scheduled a job. Id='HD_71c76867-b3e6-48b0-9bd3-d03366a0c40a_0' \n[2024-07-01T00:44:34.4847874Z][SCHEDULER][INFO]Successfully scheduled a job. Id='HD_71c76867-b3e6-48b0-9bd3-d03366a0c40a_3' \n[2024-07-01T00:44:34.5326754Z][SCHEDULER][INFO]Successfully scheduled a job. Id='HD_71c76867-b3e6-48b0-9bd3-d03366a0c40a_5' \n[2024-07-01T00:44:34.5557890Z][SCHEDULER][INFO]Scheduling job, id='HD_71c76867-b3e6-48b0-9bd3-d03366a0c40a_6' \n[2024-07-01T00:44:34.5497723Z][SCHEDULER][INFO]Successfully scheduled a job. Id='HD_71c76867-b3e6-48b0-9bd3-d03366a0c40a_4' \n[2024-07-01T00:44:34.5863175Z][SCHEDULER][INFO]Scheduling job, id='HD_71c76867-b3e6-48b0-9bd3-d03366a0c40a_7' \n[2024-07-01T00:44:34.6345126Z][SCHEDULER][INFO]Scheduling job, id='HD_71c76867-b3e6-48b0-9bd3-d03366a0c40a_8' \n[2024-07-01T00:44:34.6727064Z][SCHEDULER][INFO]Successfully scheduled a job. Id='HD_71c76867-b3e6-48b0-9bd3-d03366a0c40a_2' \n[2024-07-01T00:44:34.7381118Z][SCHEDULER][INFO]Scheduling job, id='HD_71c76867-b3e6-48b0-9bd3-d03366a0c40a_9' \n[2024-07-01T00:44:34.7785767Z][SCHEDULER][INFO]Successfully scheduled a job. Id='HD_71c76867-b3e6-48b0-9bd3-d03366a0c40a_6' \n[2024-07-01T00:44:34.702322][GENERATOR][INFO]Successfully sampled '10' jobs, they will soon be submitted to the execution target.\n[2024-07-01T00:44:34.8642554Z][SCHEDULER][INFO]Successfully scheduled a job. Id='HD_71c76867-b3e6-48b0-9bd3-d03366a0c40a_8' \n[2024-07-01T00:44:34.8833022Z][SCHEDULER][INFO]Successfully scheduled a job. Id='HD_71c76867-b3e6-48b0-9bd3-d03366a0c40a_7' \n[2024-07-01T00:44:34.9574806Z][SCHEDULER][INFO]Successfully scheduled a job. Id='HD_71c76867-b3e6-48b0-9bd3-d03366a0c40a_9' \n[2024-07-01T00:45:04.291710][GENERATOR][INFO]Max number of jobs '10' reached for experiment.\n[2024-07-01T00:45:04.488691][GENERATOR][INFO]All jobs generated.\n[2024-07-01T00:52:05.9332723Z][CONTROLLER][INFO]Changing Run Status from Running to Completed \n\nExecution Summary\n=================\nRunId: HD_71c76867-b3e6-48b0-9bd3-d03366a0c40a\nWeb View: https://ml.azure.com/runs/HD_71c76867-b3e6-48b0-9bd3-d03366a0c40a?wsid=/subscriptions/d2d90bd8-e567-4097-88c9-9532cc375686/resourcegroups/cloud_shell/workspaces/udacity&tid=f3822f31-4d32-4719-a061-c45fac0a64ab\n\nBest Run Id:  HD_71c76867-b3e6-48b0-9bd3-d03366a0c40a_0\n\nAccuracy: 0.9124936772888215\n"
        }
      ],
      "execution_count": 1,
      "metadata": {
        "gather": {
          "logged": 1719795147234
        }
      }
    },
    {
      "cell_type": "code",
      "source": [
        "#Code below registers the best model with the information of Metrics\n",
        "model = best_run.register_model(model_name='HyperDrive_HighAccuracy', model_path='outputs/', \n",
        "                                properties={'Accuracy': best_run_metrics['Accuracy'],\n",
        "                                            'Regularization Strength': best_run_metrics['Regularization Strength:'],\n",
        "                                           'Max Iterations': best_run_metrics['Max iterations:']})"
      ],
      "outputs": [],
      "execution_count": 2,
      "metadata": {
        "jupyter": {
          "source_hidden": false,
          "outputs_hidden": false
        },
        "nteract": {
          "transient": {
            "deleting": false
          }
        },
        "gather": {
          "logged": 1719795154395
        }
      }
    },
    {
      "cell_type": "code",
      "source": [
        "model"
      ],
      "outputs": [
        {
          "output_type": "execute_result",
          "execution_count": 3,
          "data": {
            "text/plain": "Model(workspace=Workspace.create(name='udacity', subscription_id='d2d90bd8-e567-4097-88c9-9532cc375686', resource_group='cloud_shell'), name=HyperDrive_HighAccuracy, id=HyperDrive_HighAccuracy:2, version=2, tags={}, properties={'Accuracy': '0.9124936772888215', 'Regularization Strength': '5.0', 'Max Iterations': '200'})"
          },
          "metadata": {}
        }
      ],
      "execution_count": 3,
      "metadata": {
        "jupyter": {
          "source_hidden": false,
          "outputs_hidden": false
        },
        "nteract": {
          "transient": {
            "deleting": false
          }
        },
        "gather": {
          "logged": 1719795164791
        }
      }
    }
  ],
  "metadata": {
    "kernel_info": {
      "name": "python38-azureml"
    },
    "kernelspec": {
      "name": "python38-azureml",
      "language": "python",
      "display_name": "Python 3.8 - AzureML"
    },
    "language_info": {
      "name": "python",
      "version": "3.8.5",
      "mimetype": "text/x-python",
      "codemirror_mode": {
        "name": "ipython",
        "version": 3
      },
      "pygments_lexer": "ipython3",
      "nbconvert_exporter": "python",
      "file_extension": ".py"
    },
    "nteract": {
      "version": "nteract-front-end@1.0.0"
    },
    "microsoft": {
      "ms_spell_check": {
        "ms_spell_check_language": "en"
      },
      "host": {
        "AzureML": {
          "notebookHasBeenCompleted": true
        }
      }
    }
  },
  "nbformat": 4,
  "nbformat_minor": 2
}