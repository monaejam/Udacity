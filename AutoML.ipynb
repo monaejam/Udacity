{
  "cells": [
    {
      "cell_type": "code",
      "source": [
        "from azureml.core import Workspace, Dataset\n",
        "from azureml.data.dataset_factory import TabularDatasetFactory\n",
        "\n",
        "# Connect to the Azure ML workspace\n",
        "ws = Workspace.from_config()\n",
        "\n",
        "# Define the data path\n",
        "data_path = 'https://automlsamplenotebookdata.blob.core.windows.net/automl-sample-notebook-data/bankmarketing_train.csv'\n",
        "\n",
        "# Create and register the TabularDataset directly from the URL\n",
        "data = TabularDatasetFactory.from_delimited_files(data_path)\n",
        "data = data.register(workspace=ws, name='dataAutoML_v8', description='New version of dataset from URL', create_new_version=True)\n",
        "\n",
        "# Verify the new dataset registration\n",
        "print(\"New dataset registered as 'dataAutoML_v8'\")\n"
      ],
      "outputs": [
        {
          "output_type": "stream",
          "name": "stdout",
          "text": "New dataset registered as 'dataAutoML_v8'\n"
        }
      ],
      "execution_count": 1,
      "metadata": {
        "jupyter": {
          "source_hidden": false,
          "outputs_hidden": false
        },
        "nteract": {
          "transient": {
            "deleting": false
          }
        },
        "gather": {
          "logged": 1719807128648
        }
      }
    },
    {
      "cell_type": "code",
      "source": [
        "from azureml.core import Workspace, Experiment, Dataset, ComputeTarget\n",
        "from azureml.core.compute import AmlCompute\n",
        "from azureml.exceptions import ComputeTargetException\n",
        "from azureml.train.automl import AutoMLConfig\n",
        "\n",
        "# Connect to the Azure ML workspace\n",
        "ws = Workspace.from_config()\n",
        "\n",
        "# Define the experiment\n",
        "experiment_name = 'automl-experiment'\n",
        "automl_experiment = Experiment(ws, experiment_name)\n",
        "\n",
        "# Create a new compute cluster with a smaller VM size and reduced number of nodes\n",
        "compute_name = 'cpu-cluster-small'\n",
        "compute_config = AmlCompute.provisioning_configuration(vm_size='STANDARD_D2_V2', max_nodes=2)\n",
        "\n",
        "try:\n",
        "    compute_target = ComputeTarget(workspace=ws, name=compute_name)\n",
        "    print('Found existing compute target.')\n",
        "except ComputeTargetException:\n",
        "    print('Compute target not found. Creating a new one.')\n",
        "    compute_target = ComputeTarget.create(ws, compute_name, compute_config)\n",
        "    compute_target.wait_for_completion(show_output=True)\n",
        "\n",
        "# Load the new dataset\n",
        "dataset = Dataset.get_by_name(ws, name='dataAutoML_v8')\n",
        "\n",
        "# Set parameters for AutoMLConfig using the new dataset\n",
        "automl_config = AutoMLConfig(\n",
        "    experiment_timeout_minutes=30,\n",
        "    task='classification',\n",
        "    primary_metric='accuracy',\n",
        "    training_data=dataset,  # Use the new dataset\n",
        "    label_column_name='y',\n",
        "    n_cross_validations=5,\n",
        "    compute_target=compute_target\n",
        ")\n",
        "\n",
        "# Submit the AutoML experiment\n",
        "try:\n",
        "    run = automl_experiment.submit(config=automl_config)\n",
        "    run.wait_for_completion(show_output=True)\n",
        "    run_details = run.get_details()\n",
        "    print(run_details)\n",
        "except Exception as e:\n",
        "    print(f\"Failed to submit AutoML run. Error: {e}\")\n"
      ],
      "outputs": [
        {
          "output_type": "stream",
          "name": "stdout",
          "text": "Found existing compute target.\nSubmitting remote run.\n"
        },
        {
          "output_type": "display_data",
          "data": {
            "text/html": "<table style=\"width:100%\"><tr><th>Experiment</th><th>Id</th><th>Type</th><th>Status</th><th>Details Page</th><th>Docs Page</th></tr><tr><td>automl-experiment</td><td>AutoML_91775691-446d-45e9-8502-527996ad39c5</td><td>automl</td><td>NotStarted</td><td><a href=\"https://ml.azure.com/runs/AutoML_91775691-446d-45e9-8502-527996ad39c5?wsid=/subscriptions/d2d90bd8-e567-4097-88c9-9532cc375686/resourcegroups/cloud_shell/workspaces/udacity&amp;tid=f3822f31-4d32-4719-a061-c45fac0a64ab\" target=\"_blank\" rel=\"noopener\">Link to Azure Machine Learning studio</a></td><td><a href=\"https://docs.microsoft.com/en-us/python/api/overview/azure/ml/intro?view=azure-ml-py\" target=\"_blank\" rel=\"noopener\">Link to Documentation</a></td></tr></table>"
          },
          "metadata": {}
        },
        {
          "output_type": "display_data",
          "data": {
            "text/html": "<table style=\"width:100%\"><tr><th>Experiment</th><th>Id</th><th>Type</th><th>Status</th><th>Details Page</th><th>Docs Page</th></tr><tr><td>automl-experiment</td><td>AutoML_91775691-446d-45e9-8502-527996ad39c5</td><td>automl</td><td>NotStarted</td><td><a href=\"https://ml.azure.com/runs/AutoML_91775691-446d-45e9-8502-527996ad39c5?wsid=/subscriptions/d2d90bd8-e567-4097-88c9-9532cc375686/resourcegroups/cloud_shell/workspaces/udacity&amp;tid=f3822f31-4d32-4719-a061-c45fac0a64ab\" target=\"_blank\" rel=\"noopener\">Link to Azure Machine Learning studio</a></td><td><a href=\"https://docs.microsoft.com/en-us/python/api/overview/azure/ml/intro?view=azure-ml-py\" target=\"_blank\" rel=\"noopener\">Link to Documentation</a></td></tr></table>"
          },
          "metadata": {}
        },
        {
          "output_type": "stream",
          "name": "stdout",
          "text": "\nCurrent status: FeaturesGeneration. Generating features for the dataset.\nCurrent status: DatasetFeaturization. Beginning to fit featurizers and featurize the dataset.\nCurrent status: DatasetBalancing. Performing class balancing sweeping\nCurrent status: DatasetCrossValidationSplit. Generating individually featurized CV splits.\nCurrent status: ModelSelection. Beginning model selection.\n\n********************************************************************************************\nDATA GUARDRAILS: \n\nTYPE:         Class balancing detection\nSTATUS:       ALERTED\nDESCRIPTION:  To decrease model bias, please cancel the current run and fix balancing problem.\n              Learn more about imbalanced data: https://aka.ms/AutomatedMLImbalancedData\nDETAILS:      Imbalanced data can lead to a falsely perceived positive effect of a model's accuracy because the input data has bias towards one class.\n+------------------------------+--------------------------------+--------------------------------------+\n|Size of the smallest class    |Name/Label of the smallest class|Number of samples in the training data|\n+==============================+================================+======================================+\n|3692                          |yes                             |32950                                 |\n+------------------------------+--------------------------------+--------------------------------------+\n\n********************************************************************************************\n\nTYPE:         Missing feature values imputation\nSTATUS:       PASSED\nDESCRIPTION:  No feature missing values were detected in the training data.\n              Learn more about missing value imputation: https://aka.ms/AutomatedMLFeaturization\n\n********************************************************************************************\n\nTYPE:         High cardinality feature detection\nSTATUS:       PASSED\nDESCRIPTION:  Your inputs were analyzed, and no high cardinality features were detected.\n              Learn more about high cardinality feature handling: https://aka.ms/AutomatedMLFeaturization\n\n********************************************************************************************\n\n********************************************************************************************\nITER: The iteration being evaluated.\nPIPELINE: A summary description of the pipeline being evaluated.\nDURATION: Time taken for the current iteration.\nMETRIC: The result of computing score on the fitted pipeline.\nBEST: The best observed score thus far.\n********************************************************************************************\n\n ITER   PIPELINE                                       DURATION            METRIC      BEST\n    0   MaxAbsScaler LightGBM                          0:00:14             0.9151    0.9151\n    1   MaxAbsScaler XGBoostClassifier                 0:00:34             0.9124    0.9151\n    2   MaxAbsScaler ExtremeRandomTrees                0:00:18             0.7294    0.9151\n    3   SparseNormalizer XGBoostClassifier             0:00:21             0.9147    0.9151\n    4   MaxAbsScaler LightGBM                          0:00:11             0.9134    0.9151\n    5   MaxAbsScaler LightGBM                          0:00:11             0.8884    0.9151\n    6   StandardScalerWrapper XGBoostClassifier        0:00:13             0.9088    0.9151\n    7   MaxAbsScaler LogisticRegression                0:00:15             0.9083    0.9151\n    8   StandardScalerWrapper ExtremeRandomTrees       0:00:12             0.8886    0.9151\n    9   StandardScalerWrapper XGBoostClassifier        0:00:12             0.9128    0.9151\n   10   SparseNormalizer LightGBM                      0:00:11             0.9051    0.9151\n   11   StandardScalerWrapper XGBoostClassifier        0:00:12             0.9129    0.9151\n   12   MaxAbsScaler LogisticRegression                0:00:15             0.9083    0.9151\n   13   MaxAbsScaler SGD                               0:00:10             0.8506    0.9151\n   14   StandardScalerWrapper XGBoostClassifier        0:00:15             0.9124    0.9151\n   15   SparseNormalizer RandomForest                  0:00:38             0.8146    0.9151\n   16   StandardScalerWrapper LogisticRegression       0:00:12             0.9086    0.9151\n   17   StandardScalerWrapper RandomForest             0:00:20             0.9013    0.9151\n   18   StandardScalerWrapper XGBoostClassifier        0:00:19             0.9140    0.9151\n   19   TruncatedSVDWrapper RandomForest               0:03:26             0.8199    0.9151\n   20   TruncatedSVDWrapper RandomForest               0:05:40             0.8310    0.9151\n   21   StandardScalerWrapper XGBoostClassifier        0:00:37             0.9143    0.9151\n   22   StandardScalerWrapper LightGBM                 0:00:46             0.9151    0.9151\n   23   MaxAbsScaler LightGBM                          0:00:33             0.8880    0.9151\n   24   StandardScalerWrapper XGBoostClassifier        0:01:27             0.9168    0.9168\n   25   StandardScalerWrapper XGBoostClassifier        0:00:33             0.8880    0.9168\n   26   MaxAbsScaler LightGBM                          0:00:35             0.9098    0.9168\n   27   StandardScalerWrapper XGBoostClassifier        0:01:21             0.9101    0.9168\n   28   StandardScalerWrapper LightGBM                 0:00:35             0.9095    0.9168\n   29   MaxAbsScaler LightGBM                          0:00:32             0.8880    0.9168\n   30   StandardScalerWrapper XGBoostClassifier        0:03:03                nan    0.9168\nERROR: {\n    \"additional_properties\": {},\n    \"error\": {\n        \"additional_properties\": {\n            \"debugInfo\": null\n        },\n        \"code\": \"UserError\",\n        \"severity\": null,\n        \"message\": \"Experiment timeout reached, please consider increasing your experiment timeout.\",\n        \"message_format\": \"Experiment timeout reached, please consider increasing your experiment timeout.\",\n        \"message_parameters\": {},\n        \"reference_code\": null,\n        \"details_uri\": null,\n        \"target\": null,\n        \"details\": [],\n        \"inner_error\": {\n            \"additional_properties\": {},\n            \"code\": \"ResourceExhausted\",\n            \"inner_error\": {\n                \"additional_properties\": {},\n                \"code\": \"Timeout\",\n                \"inner_error\": {\n                    \"additional_properties\": {},\n                    \"code\": \"ExperimentTimeoutForIterations\",\n                    \"inner_error\": null\n                }\n            }\n        },\n        \"additional_info\": null\n    },\n    \"correlation\": null,\n    \"environment\": null,\n    \"location\": null,\n    \"time\": {},\n    \"component_name\": null\n}\n   31    VotingEnsemble                                0:01:20             0.9182    0.9182\n   32    StackEnsemble                                 0:01:38             0.9155    0.9182\n{'runId': 'AutoML_91775691-446d-45e9-8502-527996ad39c5', 'target': 'cpu-cluster-small', 'status': 'Completed', 'startTimeUtc': '2024-07-01T04:22:25.876624Z', 'endTimeUtc': '2024-07-01T05:16:15.319994Z', 'services': {}, 'warnings': [{'source': 'JasmineService', 'message': 'Experiment timeout reached, hence experiment stopped. Current experiment timeout: 0 hour(s) 30 minute(s)'}], 'properties': {'num_iterations': '1000', 'training_type': 'TrainFull', 'acquisition_function': 'EI', 'primary_metric': 'accuracy', 'train_split': '0', 'acquisition_parameter': '0', 'num_cross_validation': '5', 'target': 'cpu-cluster-small', 'AMLSettingsJsonString': '{\"path\":null,\"name\":\"automl-experiment\",\"subscription_id\":\"d2d90bd8-e567-4097-88c9-9532cc375686\",\"resource_group\":\"cloud_shell\",\"workspace_name\":\"udacity\",\"region\":\"northcentralus\",\"compute_target\":\"cpu-cluster-small\",\"spark_service\":null,\"azure_service\":\"remote\",\"many_models\":false,\"pipeline_fetch_max_batch_size\":1,\"enable_batch_run\":true,\"enable_parallel_run\":false,\"num_procs\":null,\"enable_run_restructure\":false,\"start_auxiliary_runs_before_parent_complete\":false,\"enable_code_generation\":true,\"force_curated_environment\":false,\"iterations\":1000,\"primary_metric\":\"accuracy\",\"task_type\":\"classification\",\"positive_label\":null,\"data_script\":null,\"test_size\":0.0,\"test_include_predictions_only\":false,\"validation_size\":0.0,\"n_cross_validations\":5,\"y_min\":null,\"y_max\":null,\"num_classes\":null,\"featurization\":\"auto\",\"_ignore_package_version_incompatibilities\":false,\"is_timeseries\":false,\"max_cores_per_iteration\":1,\"max_concurrent_iterations\":1,\"iteration_timeout_minutes\":null,\"mem_in_mb\":null,\"enforce_time_on_windows\":false,\"experiment_timeout_minutes\":30,\"experiment_exit_score\":null,\"partition_column_names\":null,\"whitelist_models\":null,\"blacklist_algos\":[\"TensorFlowLinearClassifier\",\"TensorFlowDNN\"],\"supported_models\":[\"AveragedPerceptronClassifier\",\"ExtremeRandomTrees\",\"TensorFlowLinearClassifier\",\"LogisticRegression\",\"XGBoostClassifier\",\"TabnetClassifier\",\"LightGBM\",\"RandomForest\",\"SVM\",\"TensorFlowDNN\",\"DecisionTree\",\"MultinomialNaiveBayes\",\"KNN\",\"BernoulliNaiveBayes\",\"SGD\",\"LinearSVM\",\"GradientBoosting\"],\"private_models\":[],\"auto_blacklist\":true,\"blacklist_samples_reached\":false,\"exclude_nan_labels\":true,\"verbosity\":20,\"_debug_log\":\"azureml_automl.log\",\"show_warnings\":false,\"model_explainability\":true,\"service_url\":null,\"sdk_url\":null,\"sdk_packages\":null,\"enable_onnx_compatible_models\":false,\"enable_split_onnx_featurizer_estimator_models\":false,\"vm_type\":\"STANDARD_D2_V2\",\"telemetry_verbosity\":20,\"send_telemetry\":true,\"enable_dnn\":false,\"scenario\":\"AutoML\",\"environment_label\":null,\"save_mlflow\":false,\"enable_categorical_indicators\":false,\"force_text_dnn\":false,\"enable_feature_sweeping\":true,\"enable_early_stopping\":true,\"early_stopping_n_iters\":10,\"arguments\":null,\"dataset_id\":\"bae56a6c-8bb3-4d8f-9947-c26b8d962df5\",\"hyperdrive_config\":null,\"validation_dataset_id\":null,\"run_source\":null,\"metrics\":null,\"enable_metric_confidence\":false,\"enable_ensembling\":true,\"enable_stack_ensembling\":true,\"ensemble_iterations\":15,\"enable_tf\":false,\"enable_subsampling\":null,\"subsample_seed\":null,\"enable_nimbusml\":false,\"enable_streaming\":false,\"force_streaming\":false,\"track_child_runs\":true,\"n_best_runs\":1,\"allowed_private_models\":[],\"label_column_name\":\"y\",\"weight_column_name\":null,\"cv_split_column_names\":null,\"enable_local_managed\":false,\"_local_managed_run_id\":null,\"cost_mode\":1,\"lag_length\":0,\"metric_operation\":\"maximize\",\"preprocess\":true}', 'DataPrepJsonString': '{\\\\\"training_data\\\\\": {\\\\\"datasetId\\\\\": \\\\\"bae56a6c-8bb3-4d8f-9947-c26b8d962df5\\\\\"}, \\\\\"datasets\\\\\": 0}', 'EnableSubsampling': None, 'runTemplate': 'AutoML', 'azureml.runsource': 'automl', 'display_task_type': 'classification', 'dependencies_versions': '{\"azureml-automl-core\": \"1.56.0.post1\", \"azureml-automl-runtime\": \"1.56.0.post1\", \"azureml-core\": \"1.56.0\", \"azureml-dataprep\": \"5.1.6\", \"azureml-dataprep-native\": \"41.0.0\", \"azureml-dataprep-rslex\": \"2.22.2\", \"azureml-dataset-runtime\": \"1.56.0\", \"azureml-fsspec\": \"1.1.0\", \"azureml-interpret\": \"1.56.0\", \"azureml-mlflow\": \"1.56.0\", \"azureml-pipeline\": \"1.56.0\", \"azureml-pipeline-core\": \"1.56.0\", \"azureml-pipeline-steps\": \"1.56.0\", \"azureml-responsibleai\": \"1.56.0\", \"azureml-sdk\": \"1.56.0\", \"azureml-telemetry\": \"1.56.0\", \"azureml-train-automl\": \"1.56.0\", \"azureml-train-automl-client\": \"1.56.0\", \"azureml-train-automl-runtime\": \"1.56.0.post1\", \"azureml-train-core\": \"1.56.0\", \"azureml-train-restclients-hyperdrive\": \"1.56.0\", \"azureml-training-tabular\": \"1.56.0.post1\"}', '_aml_system_scenario_identification': 'Remote.Parent', 'ClientType': 'SDK', 'PlatformVersion': 'DPV1', 'environment_cpu_name': 'AzureML-AutoML', 'environment_cpu_label': 'prod', 'environment_gpu_name': 'AzureML-AutoML-GPU', 'environment_gpu_label': 'prod', 'root_attribution': 'automl', 'attribution': 'AutoML', 'Orchestrator': 'AutoML', 'CancelUri': 'https://northcentralus.api.azureml.ms/jasmine/v1.0/subscriptions/d2d90bd8-e567-4097-88c9-9532cc375686/resourceGroups/cloud_shell/providers/Microsoft.MachineLearningServices/workspaces/udacity/experimentids/eed6f057-18c5-407d-89b1-4d4983042a1c/cancel/AutoML_91775691-446d-45e9-8502-527996ad39c5', 'ClientSdkVersion': None, 'snapshotId': '00000000-0000-0000-0000-000000000000', 'SetupRunId': 'AutoML_91775691-446d-45e9-8502-527996ad39c5_setup', 'SetupRunContainerId': 'dcid.AutoML_91775691-446d-45e9-8502-527996ad39c5_setup', 'FeaturizationRunJsonPath': 'featurizer_container.json', 'FeaturizationRunId': 'AutoML_91775691-446d-45e9-8502-527996ad39c5_featurize', 'ProblemInfoJsonString': '{\"dataset_num_categorical\": 0, \"is_sparse\": true, \"subsampling\": false, \"has_extra_col\": true, \"dataset_classes\": 2, \"dataset_features\": 132, \"dataset_samples\": 32950, \"single_frequency_class_detected\": false}', 'ModelExplainRunId': 'AutoML_91775691-446d-45e9-8502-527996ad39c5_ModelExplain'}, 'inputDatasets': [{'dataset': {'id': 'bae56a6c-8bb3-4d8f-9947-c26b8d962df5'}, 'consumptionDetails': {'type': 'RunInput', 'inputName': 'training_data', 'mechanism': 'Direct'}}], 'outputDatasets': [], 'logFiles': {}, 'submittedBy': 'mona jam'}\n"
        }
      ],
      "execution_count": 4,
      "metadata": {
        "jupyter": {
          "source_hidden": false,
          "outputs_hidden": false
        },
        "nteract": {
          "transient": {
            "deleting": false
          }
        },
        "gather": {
          "logged": 1719810991182
        }
      }
    },
    {
      "cell_type": "code",
      "source": [
        "from azureml.core import Workspace\n",
        "from azureml.core.compute import ComputeTarget\n",
        "\n",
        "# Load the workspace\n",
        "ws = Workspace.from_config()\n",
        "\n",
        "# Get the compute target\n",
        "compute_target = ws.compute_targets['cpu-cluster-small']\n",
        "\n",
        "# Delete the compute target\n",
        "compute_target.delete()\n"
      ],
      "outputs": [],
      "execution_count": null,
      "metadata": {
        "jupyter": {
          "source_hidden": false,
          "outputs_hidden": false
        },
        "nteract": {
          "transient": {
            "deleting": false
          }
        }
      }
    }
  ],
  "metadata": {
    "kernelspec": {
      "name": "python310-sdkv2",
      "language": "python",
      "display_name": "Python 3.10 - SDK v2"
    },
    "language_info": {
      "name": "python",
      "version": "3.10.11",
      "mimetype": "text/x-python",
      "codemirror_mode": {
        "name": "ipython",
        "version": 3
      },
      "pygments_lexer": "ipython3",
      "nbconvert_exporter": "python",
      "file_extension": ".py"
    },
    "microsoft": {
      "ms_spell_check": {
        "ms_spell_check_language": "en"
      },
      "host": {
        "AzureML": {
          "notebookHasBeenCompleted": true
        }
      }
    },
    "kernel_info": {
      "name": "python310-sdkv2"
    },
    "nteract": {
      "version": "nteract-front-end@1.0.0"
    }
  },
  "nbformat": 4,
  "nbformat_minor": 2
}